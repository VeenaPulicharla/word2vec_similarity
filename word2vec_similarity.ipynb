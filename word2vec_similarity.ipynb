{
 "cells": [
  {
   "cell_type": "markdown",
   "metadata": {},
   "source": [
    "### Finding similarity between two documents(of two concepts eg: between cat and dog) using word2vec Similarity measure."
   ]
  },
  {
   "cell_type": "code",
   "execution_count": 39,
   "metadata": {},
   "outputs": [],
   "source": [
    "from gensim.models import Word2Vec \n",
    "\n",
    "processed_docs = [['dog','eat','sound','pedigree','chicken','cat','technology'],['rat','run','rat','hen','egg','tech','bio','conflict','neighbour','k-nearestneighbourhood','search','computers','bite','data','science' 'bark', 'shout'], ['run','sound','eat','cat', 'meaww','data_science' ,'walk', 'milk', 'drink']]\n",
    "min_count = 1\n",
    "size = 80\n",
    "window = 15\n",
    " \n",
    "model = Word2Vec(processed_docs, min_count=min_count, size=size, window=window , hs =1 ,)\n",
    "# train model\n",
    "# summarize vocabulary\n",
    "words = list(model.wv.vocab)\n",
    "model.save('model.bin')\n",
    "# load model\n",
    "new_model = Word2Vec.load('model.bin')\n"
   ]
  },
  {
   "cell_type": "code",
   "execution_count": 40,
   "metadata": {},
   "outputs": [],
   "source": [
    "# sample dummy data\n",
    "neighborhood_dict = {'cat': ['pedigree','sound','eat','dog','technology','run','rat','tech','eat','sound','run','meaww','data_science','walk','milk'],\n",
    "                      'dog': ['pedigree','sound','eat','cat'],\n",
    "                      'egg': ['k-nearestneighbourhood','neighbour','hen','conflict','bio','search','computers','bite','data']}\n",
    "\n",
    "neighborhood_val = neighborhood_dict.values()"
   ]
  },
  {
   "cell_type": "code",
   "execution_count": 44,
   "metadata": {},
   "outputs": [
    {
     "name": "stdout",
     "output_type": "stream",
     "text": [
      "{'egg_cat': 0.0036562907647789173, 'egg_dog': 0.010143620886434898, 'dog_cat': 0.024824781451669994}\n"
     ]
    },
    {
     "name": "stderr",
     "output_type": "stream",
     "text": [
      "/Users/vpulicharla/anaconda2/lib/python2.7/site-packages/ipykernel_launcher.py:18: DeprecationWarning: Call to deprecated `similarity` (Method will be removed in 4.0.0, use self.wv.similarity() instead).\n"
     ]
    }
   ],
   "source": [
    "# word2vec similarity\n",
    "from sklearn.feature_extraction.text import TfidfVectorizer\n",
    "from sklearn.feature_extraction.text import CountVectorizer\n",
    "from sklearn.metrics.pairwise import linear_kernel\n",
    "from sklearn.metrics.pairwise import cosine_similarity\n",
    "from gensim.models import Word2Vec\n",
    "\n",
    "W2vec_dict = {}\n",
    "similarity_map = {}\n",
    "keys = neighborhood_dict.keys()\n",
    "words = []\n",
    "for key in neighborhood_dict:\n",
    "    words += neighborhood_dict[key]\n",
    "words = [str(word) for word in set(words)]\n",
    "for i in range(len(words) -1):\n",
    "    for j in range(i+1, len(words)):\n",
    "        if '_'.join([words[i], words[j]]) not in similarity_map or '_'.join([words[j], words[i]]) not in similarity_map:\n",
    "            similarity_map['_'.join([words[i], words[j]])] = model.similarity(words[i], words[j])\n",
    "for i in range(len(keys)-1):\n",
    "    key1 = keys[i]\n",
    "    for j in range(i+1, len(keys)):\n",
    "        key2 = keys[j]\n",
    "        key = key1 +'_'+ key2\n",
    "        list1 = neighborhood_dict[key1]\n",
    "        list2 = neighborhood_dict[key2]\n",
    "        similarity_sum = 0\n",
    "        avg_sim = []\n",
    "        count = 0\n",
    "        for word1 in list1:\n",
    "            for word2 in list2:\n",
    "                try:\n",
    "                    for words_list in [[word1, word2], [word2, word1]]: \n",
    "                        similar_word_str = '_'.join(words_list)\n",
    "                        if similar_word_str in similarity_map:\n",
    "                            similarity_sum += similarity_map[similar_word_str]\n",
    "                            count += 1\n",
    "                            break\n",
    "                except:\n",
    "                    print \"No word in dictionary\"\n",
    "        avg_sim = (similarity_sum) / count\n",
    "        W2vec_dict.update({key: avg_sim})\n",
    "#print \"avg_sim\", avg_sim\n",
    "\n",
    "print W2vec_dict"
   ]
  },
  {
   "cell_type": "code",
   "execution_count": null,
   "metadata": {},
   "outputs": [],
   "source": []
  }
 ],
 "metadata": {
  "kernelspec": {
   "display_name": "Python 2",
   "language": "python",
   "name": "python2"
  },
  "language_info": {
   "codemirror_mode": {
    "name": "ipython",
    "version": 2
   },
   "file_extension": ".py",
   "mimetype": "text/x-python",
   "name": "python",
   "nbconvert_exporter": "python",
   "pygments_lexer": "ipython2",
   "version": "2.7.14"
  }
 },
 "nbformat": 4,
 "nbformat_minor": 2
}
